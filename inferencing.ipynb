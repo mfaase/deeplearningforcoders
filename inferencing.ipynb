{
 "cells": [
  {
   "cell_type": "markdown",
   "metadata": {},
   "source": [
    "Set image path"
   ]
  },
  {
   "cell_type": "code",
   "execution_count": 21,
   "metadata": {},
   "outputs": [],
   "source": [
    "image_path = \"sample_image.png\""
   ]
  },
  {
   "cell_type": "markdown",
   "metadata": {},
   "source": [
    "OCR: Send image to OCR API"
   ]
  },
  {
   "cell_type": "code",
   "execution_count": null,
   "metadata": {},
   "outputs": [],
   "source": [
    "import requests\n",
    "\n",
    "ocr_url = \"http://localhost:8000/ocr/\"\n",
    "with open(image_path, \"rb\") as image_file:\n",
    "    ocr_response = requests.post(ocr_url, files={\"file\": image_file})\n",
    "    ocr_result = ocr_response.json()\n",
    "    print(\"OCR Result:\", ocr_result[\"text\"])"
   ]
  },
  {
   "cell_type": "markdown",
   "metadata": {},
   "source": [
    "Translation: Send extracted text to Translation API"
   ]
  },
  {
   "cell_type": "code",
   "execution_count": null,
   "metadata": {},
   "outputs": [],
   "source": [
    "translate_url = \"http://localhost:8001/translate/\"\n",
    "translation_response = requests.post(translate_url, json={\"text\": ocr_result[\"text\"]})\n",
    "translated_result = translation_response.json()\n",
    "print(\"Translated Text:\", translated_result[\"translated_text\"])\n"
   ]
  },
  {
   "cell_type": "markdown",
   "metadata": {},
   "source": [
    "Send translated text to TTS API"
   ]
  },
  {
   "cell_type": "code",
   "execution_count": 35,
   "metadata": {},
   "outputs": [],
   "source": [
    "tts_url = \"http://localhost:8002/tts/\"\n",
    "tts_response = requests.post(tts_url, json={\"text\": translated_result[\"translated_text\"]})\n",
    "if tts_response.status_code == 200:\n",
    "    with open(\"./output_audio.wav\", \"wb\") as f:\n",
    "        f.write(tts_response.content)"
   ]
  },
  {
   "cell_type": "code",
   "execution_count": null,
   "metadata": {},
   "outputs": [],
   "source": []
  }
 ],
 "metadata": {
  "kernelspec": {
   "display_name": "ocr_translation_tts_env",
   "language": "python",
   "name": "python3"
  },
  "language_info": {
   "codemirror_mode": {
    "name": "ipython",
    "version": 3
   },
   "file_extension": ".py",
   "mimetype": "text/x-python",
   "name": "python",
   "nbconvert_exporter": "python",
   "pygments_lexer": "ipython3",
   "version": "3.9.19"
  }
 },
 "nbformat": 4,
 "nbformat_minor": 2
}
