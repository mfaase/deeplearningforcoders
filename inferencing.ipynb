{
 "cells": [
  {
   "cell_type": "code",
   "execution_count": null,
   "metadata": {},
   "outputs": [],
   "source": [
    "import requests\n",
    "\n",
    "# OCR: Send image to OCR API\n",
    "ocr_url = \"http://localhost:8000/ocr/\"\n",
    "image_path = \"path_to_your_image/sample_image3.png\"\n",
    "with open(image_path, \"rb\") as image_file:\n",
    "    ocr_response = requests.post(ocr_url, files={\"file\": image_file})\n",
    "    ocr_result = ocr_response.json()\n",
    "    print(\"OCR Result:\", ocr_result[\"text\"])\n",
    "\n",
    "# Translation: Send extracted text to Translation API\n",
    "translate_url = \"http://localhost:8001/translate/\"\n",
    "translation_response = requests.post(translate_url, json={\"text\": ocr_result[\"text\"]})\n",
    "translated_result = translation_response.json()\n",
    "print(\"Translated Text:\", translated_result[\"translated_text\"])\n",
    "\n",
    "# TTS: Send translated text to TTS API\n",
    "tts_url = \"http://localhost:8002/tts/\"\n",
    "tts_response = requests.post(tts_url, json={\"text\": translated_result[\"translated_text\"]})\n",
    "print(\"TTS Response:\", tts_response.json())\n"
   ]
  }
 ],
 "metadata": {
  "language_info": {
   "name": "python"
  }
 },
 "nbformat": 4,
 "nbformat_minor": 2
}
